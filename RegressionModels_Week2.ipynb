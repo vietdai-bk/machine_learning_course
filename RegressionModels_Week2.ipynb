{
  "nbformat": 4,
  "nbformat_minor": 0,
  "metadata": {
    "colab": {
      "provenance": [],
      "authorship_tag": "ABX9TyOsksYHjpq01W0pX6Y/bR0K",
      "include_colab_link": true
    },
    "kernelspec": {
      "name": "python3",
      "display_name": "Python 3"
    },
    "language_info": {
      "name": "python"
    }
  },
  "cells": [
    {
      "cell_type": "markdown",
      "metadata": {
        "id": "view-in-github",
        "colab_type": "text"
      },
      "source": [
        "<a href=\"https://colab.research.google.com/github/vietdai-bk/machine_learning_course/blob/main/RegressionModels_Week2.ipynb\" target=\"_parent\"><img src=\"https://colab.research.google.com/assets/colab-badge.svg\" alt=\"Open In Colab\"/></a>"
      ]
    },
    {
      "cell_type": "markdown",
      "source": [
        "# Linear Regression, Gradient Descent và Overfitting\n",
        "\n",
        "## 1. Hồi quy tuyến tính (Linear Regression)\n",
        "\n",
        "Hồi quy tuyến tính là một phương pháp thống kê và học máy dùng để mô hình hóa mối quan hệ giữa một biến phụ thuộc (dependent variable) $y$ và một hoặc nhiều biến độc lập (independent variables) $x$. Mục tiêu là tìm một đường thẳng (hoặc mặt phẳng trong không gian nhiều chiều) sao cho khoảng cách giữa các điểm dữ liệu thực tế và đường dự đoán là nhỏ nhất.\n",
        "\n",
        "### Công thức\n",
        "\n",
        "**Công thức hồi quy tuyến tính đơn:**\n",
        "$$y = w_0 + w_1x$$\n",
        "- $y$: Giá trị dự đoán (biến phụ thuộc).\n",
        "- $x$: Biến độc lập.\n",
        "- $w_0$: Hệ số chặn (intercept), hay còn gọi là bias.\n",
        "- $w_1$: Hệ số góc (slope), còn gọi là weight.\n",
        "\n",
        "**Công thức hồi quy tuyến tính đa biến:**\n",
        "$$y = w_0 + w_1x_1 + w_2x_2 + \\dots + w_nx_n$$\n",
        "\n",
        "**Dạng vector:**\n",
        "$$y = \\mathbf{w}^T \\mathbf{x} + w_0$$\n",
        "- $\\mathbf{w} = [w_1, w_2, \\dots, w_n]$: Vector trọng số.\n",
        "- $\\mathbf{x} = [x_1, x_2, \\dots, x_n]$: Vector biến độc lập.\n",
        "\n",
        "### Hàm mất mát (Loss Function)\n",
        "\n",
        "Để đo lường sai số giữa giá trị dự đoán $\\hat{y}$ và giá trị thực tế $y$, ta thường dùng hàm mất mát bình phương trung bình (Mean Squared Error - MSE):\n",
        "$$MSE = \\frac{1}{m} \\sum_{i=1}^m (\\hat{y}_i - y_i)^2$$\n",
        "- $m$: Số lượng mẫu dữ liệu.\n",
        "- $\\hat{y}_i = \\mathbf{w}^T \\mathbf{x}_i + w_0$: Giá trị dự đoán cho mẫu $i$.\n",
        "- $y_i$: Giá trị thực tế của mẫu $i$.\n",
        "\n",
        "Mục tiêu là tối thiểu hóa $J(\\mathbf{w})$ bằng cách tìm $\\mathbf{w}$ và $w_0$ tối ưu.\n",
        "\n",
        "---\n",
        "\n",
        "## 2. Gradient Descent (Hạ Gradient)\n",
        "\n",
        "Gradient Descent là một thuật toán tối ưu hóa dùng để tìm các tham số $\\mathbf{w}$ sao cho hàm mất mát $J(\\mathbf{w})$ đạt giá trị nhỏ nhất. Ý tưởng là di chuyển ngược chiều với gradient của hàm mất mát để tiến gần đến điểm tối ưu.\n",
        "\n",
        "### Công thức cập nhật trọng số\n",
        "\n",
        "Trong mỗi bước lặp, các tham số được cập nhật theo quy tắc:\n",
        "$$w_j := w_j - \\alpha \\frac{\\partial J(\\mathbf{w})}{\\partial w_j}$$\n",
        "- $\\alpha$: Tốc độ học (learning rate), một hằng số nhỏ quyết định bước di chuyển.\n",
        "- $\\frac{\\partial J(\\mathbf{w})}{\\partial w_j}$: Đạo hàm riêng của hàm mất mát theo $w_j$.\n",
        "\n",
        "Với hàm mất mát MSE, đạo hàm riêng được tính như sau:\n",
        "- Đối với $w_0$ (hệ số chặn):\n",
        "$$\\frac{\\partial J}{\\partial w_0} = \\frac{2}{m} \\sum_{i=1}^m (\\hat{y}_i - y_i)$$\n",
        "- Đối với $w_j$ (các trọng số khác):\n",
        "$$\\frac{\\partial J}{\\partial w_j} = \\frac{2}{m} \\sum_{i=1}^m (\\hat{y}_i - y_i) x_{ij}$$\n",
        "\n",
        "### Quy trình Gradient Descent\n",
        "\n",
        "1. Khởi tạo $\\mathbf{w}$ và $w_0$ ngẫu nhiên (thường gần 0).\n",
        "2. Tính gradient của $J(\\mathbf{w})$.\n",
        "3. Cập nhật $\\mathbf{w}$ và $w_0$ theo công thức trên.\n",
        "4. Lặp lại cho đến khi $J(\\mathbf{w})$ hội tụ hoặc đạt số lần lặp tối đa.\n",
        "\n",
        "### Các biến thể\n",
        "\n",
        "- **Batch Gradient Descent**: Dùng toàn bộ dữ liệu để tính gradient trong mỗi bước.\n",
        "- **Stochastic Gradient Descent (SGD)**: Chỉ dùng một mẫu dữ liệu ngẫu nhiên mỗi lần cập nhật.\n",
        "- **Mini-batch Gradient Descent**: Dùng một nhóm nhỏ mẫu dữ liệu.\n",
        "\n",
        "---\n",
        "\n",
        "## 3. Overfitting (Quá khớp)\n",
        "\n",
        "Overfitting xảy ra khi mô hình học máy (như hồi quy tuyến tính) học quá chi tiết các đặc điểm của dữ liệu huấn luyện, bao gồm cả nhiễu (noise), dẫn đến việc dự đoán kém trên dữ liệu mới (dữ liệu kiểm tra). Trong hồi quy tuyến tính, điều này thường xảy ra khi mô hình quá phức tạp (nhiều biến độc lập hoặc bậc đa thức cao).\n",
        "\n",
        "### Dấu hiệu của Overfitting\n",
        "\n",
        "- Sai số trên tập huấn luyện rất nhỏ, nhưng sai số trên tập kiểm tra rất lớn.\n",
        "- Mô hình có các hệ số $w_j$ với giá trị cực lớn (do cố gắng khớp mọi điểm dữ liệu).\n",
        "\n",
        "### Cách khắc phục\n",
        "\n",
        "1. **Regularization (Điều chuẩn)**:\n",
        "   - Thêm một thành phần phạt vào hàm mất mát để kiểm soát độ lớn của $\\mathbf{w}$.\n",
        "   - **Ridge Regression (L2 regularization):**\n",
        "   $$J(\\mathbf{w}) = \\frac{1}{m} \\sum_{i=1}^m (\\hat{y}_i - y_i)^2 + \\lambda \\sum_{j=1}^n w_j^2$$\n",
        "   - **Lasso Regression (L1 regularization):**\n",
        "   $$J(\\mathbf{w}) = \\frac{1}{m} \\sum_{i=1}^m (\\hat{y}_i - y_i)^2 + \\lambda \\sum_{j=1}^n |w_j|$$\n",
        "   - $\\lambda$: Hằng số điều chỉnh mức độ phạt.\n",
        "\n",
        "2. **Thu thập thêm dữ liệu**: Giảm nhiễu bằng cách tăng kích thước tập huấn luyện.\n",
        "3. **Giảm độ phức tạp mô hình**: Loại bỏ các biến không cần thiết hoặc giảm bậc đa thức.\n",
        "4. **Cross-validation**: Dùng kỹ thuật như k-fold cross-validation để đánh giá hiệu quả mô hình trên nhiều tập dữ liệu khác nhau.\n",
        "\n",
        "## 4. Đánh giá mô hình Linear Regression\n",
        "\n",
        "Để đánh giá mô hình hồi quy tuyến tính sau khi huấn luyện, ta sử dụng các độ đo hiệu suất và phân tích residuals.\n",
        "\n",
        "### Các độ đo hiệu suất\n",
        "\n",
        "#### a. Mean Squared Error (MSE)\n",
        "$$MSE = \\frac{1}{m} \\sum_{i=1}^m (y_i - \\hat{y}_i)^2$$\n",
        "- Đo lường trung bình bình phương sai số. Giá trị nhỏ hơn là tốt hơn.\n",
        "\n",
        "#### b. Root Mean Squared Error (RMSE)\n",
        "$$RMSE = \\sqrt{\\frac{1}{m} \\sum_{i=1}^m (y_i - \\hat{y}_i)^2}$$\n",
        "- Căn bậc hai của MSE, cùng đơn vị với biến mục tiêu.\n",
        "\n",
        "#### c. Mean Absolute Error (MAE)\n",
        "$$MAE = \\frac{1}{m} \\sum_{i=1}^m |y_i - \\hat{y}_i|$$\n",
        "- Trung bình giá trị tuyệt đối sai số, ít nhạy với outliers.\n",
        "\n",
        "#### d. R-squared ($R^2$) - Hệ số xác định\n",
        "$$R^2 = 1 - \\frac{\\sum_{i=1}^m (y_i - \\hat{y}_i)^2}{\\sum_{i=1}^m (y_i - \\bar{y})^2}$$\n",
        "- $y_i$: Giá trị thực tế.\n",
        "- $\\hat{y}_i$: Giá trị dự đoán.\n",
        "- $\\bar{y}$: Trung bình của $y$ thực tế.\n",
        "- $R^2 = 1$: Mô hình giải thích hoàn toàn dữ liệu.\n",
        "- $R^2 = 0$: Mô hình không tốt hơn dự đoán trung bình.\n",
        "\n",
        "### Phân tích Overfitting/Underfitting\n",
        "- So sánh MSE hoặc $R^2$ trên tập train và test:\n",
        "  - Train tốt, test kém → Overfitting.\n",
        "  - Cả train và test đều kém → Underfitting.\n",
        "\n",
        "### Phân tích Residuals\n",
        "- Residuals: $e_i = y_i - \\hat{y}_i$.\n",
        "- Vẽ scatter plot residuals so với $\\hat{y}$:\n",
        "  - Phân bố ngẫu nhiên quanh 0 → Mô hình tốt.\n",
        "  - Có xu hướng → Mô hình chưa đủ tốt.\n",
        "\n",
        "---\n",
        "\n",
        "### Tóm tắt\n",
        "\n",
        "- **Hồi quy tuyến tính**: Dự đoán $y$ bằng tổ hợp tuyến tính của $\\mathbf{x}$, tối ưu hóa hàm mất mát MSE.\n",
        "- **Gradient Descent**: Thuật toán lặp để tìm $\\mathbf{w}$ tối ưu, dựa trên gradient của hàm mất mát.\n",
        "- **Overfitting**: Mô hình quá khớp với dữ liệu huấn luyện, giải quyết bằng regularization, thêm dữ liệu, hoặc đơn giản hóa mô hình.\n",
        "\n",
        "**Cre: Grok**"
      ],
      "metadata": {
        "id": "RUjSw_qA30aT"
      }
    },
    {
      "cell_type": "markdown",
      "source": [
        "# Cài đặt thuật toán Linear Regression"
      ],
      "metadata": {
        "id": "MhgIWEik83WC"
      }
    },
    {
      "cell_type": "markdown",
      "source": [
        "***Sử dụng R2 Score để xem xét mô hình có tốt không:***\n",
        "$$R^2 = 1 - \\frac{\\sum_{i=1}^m (y_i - \\hat{y}_i)^2}{\\sum_{i=1}^m (y_i - \\bar{y})^2}$$\n"
      ],
      "metadata": {
        "id": "sid36GJqCDLK"
      }
    },
    {
      "cell_type": "code",
      "source": [
        "from sklearn import datasets\n",
        "import numpy as np\n",
        "import matplotlib.pyplot as plt\n",
        "import seaborn as sb\n",
        "import pandas as pd\n",
        "from sklearn.model_selection import train_test_split\n",
        "from sklearn.preprocessing import StandardScaler\n",
        "from sklearn.metrics import r2_score\n",
        "from sklearn.linear_model import LinearRegression\n",
        "\n",
        "price_house = datasets.fetch_california_housing()\n",
        "x = price_house.data\n",
        "y = price_house.target\n",
        "\n",
        "scaler = StandardScaler()\n",
        "x_train, x_test, y_train, y_test = train_test_split(x, y, test_size=0.2, random_state=42)\n",
        "x_train = scaler.fit_transform(x_train)\n",
        "x_test = scaler.transform(x_test)\n",
        "\n",
        "def MSE(y_true, y_pred):\n",
        "  return np.mean((y_true-y_pred)**2)\n",
        "def gradient_descent(x, y, lr=0.01, epochs=1000):\n",
        "  m, n = x.shape\n",
        "  w = np.zeros(n)\n",
        "  b = 0\n",
        "  loss_cost_list = []\n",
        "  for _ in range(epochs):\n",
        "    y_pred = np.dot(x, w) + b ## np.dot: tích vô hướng giữa 2 vector w và x\n",
        "    cost = MSE(y, y_pred)\n",
        "    loss_cost_list.append(cost)\n",
        "    w_grad = (2/m) * np.dot(x.T, (y_pred - y)) ## x.T kích thước nxm có thể nhân với y_pred-y kích thước mx1\n",
        "    b_grad = (2/m) * np.sum(y_pred - y)\n",
        "    w -= lr * w_grad\n",
        "    b -= lr * b_grad\n",
        "  return w, b, loss_cost_list\n",
        "\n",
        "linear_model = LinearRegression()\n",
        "linear_model.fit(x_train, y_train)\n",
        "y_pred = linear_model.predict(x_test)\n",
        "r2score = r2_score(y_test, y_pred)\n",
        "print(r2score)\n",
        "\n",
        "w, b, loss_cost_list = gradient_descent(x_train, y_train, lr=0.01, epochs=1000)\n",
        "print(w, b)\n",
        "r2score = r2_score(y_test, np.dot(x_test, w) + b)\n",
        "print(r2score)"
      ],
      "metadata": {
        "colab": {
          "base_uri": "https://localhost:8080/"
        },
        "id": "-thF_MZe3929",
        "outputId": "bc9ae7f0-1a87-48c5-a15f-c1843f5e5cf4"
      },
      "execution_count": 30,
      "outputs": [
        {
          "output_type": "stream",
          "name": "stdout",
          "text": [
            "0.575787706032451\n",
            "[ 0.8580605   0.1501549  -0.25253771  0.28100715  0.00710958 -0.04344213\n",
            " -0.68321834 -0.65415242] 2.0719469338916703\n",
            "0.5767889905063643\n"
          ]
        }
      ]
    },
    {
      "cell_type": "code",
      "execution_count": 31,
      "metadata": {
        "colab": {
          "base_uri": "https://localhost:8080/",
          "height": 430
        },
        "id": "LwqHEj_F3vhD",
        "outputId": "d7dab437-e386-4ae8-9b28-62ee39c5257e"
      },
      "outputs": [
        {
          "output_type": "display_data",
          "data": {
            "text/plain": [
              "<Figure size 640x480 with 1 Axes>"
            ],
            "image/png": "[encoded data removed]"
          },
          "metadata": {}
        }
      ],
      "source": [
        "plt.plot(loss_cost_list)\n",
        "plt.show()"
      ]
    }
  ]
}